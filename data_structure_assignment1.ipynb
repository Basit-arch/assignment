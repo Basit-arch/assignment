{
  "nbformat": 4,
  "nbformat_minor": 0,
  "metadata": {
    "colab": {
      "provenance": [],
      "authorship_tag": "ABX9TyMFCsQ/PcOZojdUiTpBiYTT",
      "include_colab_link": true
    },
    "kernelspec": {
      "name": "python3",
      "display_name": "Python 3"
    },
    "language_info": {
      "name": "python"
    }
  },
  "cells": [
    {
      "cell_type": "markdown",
      "metadata": {
        "id": "view-in-github",
        "colab_type": "text"
      },
      "source": [
        "<a href=\"https://colab.research.google.com/github/Basit-arch/assignment/blob/main/data_structure_assignment1.ipynb\" target=\"_parent\"><img src=\"https://colab.research.google.com/assets/colab-badge.svg\" alt=\"Open In Colab\"/></a>"
      ]
    },
    {
      "cell_type": "markdown",
      "source": [
        "Qno.1\n",
        "Discuss string slicing and provide examples\n"
      ],
      "metadata": {
        "id": "MTryi5x2XiBq"
      }
    },
    {
      "cell_type": "markdown",
      "source": [
        "String slicing is a way to extract a portion of a string by specifying its starting and ending indices. In Python, slicing is done using square brackets and indices start at zero."
      ],
      "metadata": {
        "id": "7MdBECFJXjto"
      }
    },
    {
      "cell_type": "code",
      "source": [
        "#Examples include s[2:5] to get the characters from index 2 to 4 of the string s."
      ],
      "metadata": {
        "id": "x9ucXl9xs1u1"
      },
      "execution_count": 2,
      "outputs": []
    },
    {
      "cell_type": "markdown",
      "source": [
        "Qno.2 Explain the key features of lists in Python\n"
      ],
      "metadata": {
        "id": "HTYWm1hws_Zr"
      }
    },
    {
      "cell_type": "markdown",
      "source": [
        "Lists are one of the built-in Python data types used to store collections of items. They are mutable, ordered and can contain elements of different data types. Lists are indexed and sliced, and they support a variety of useful methods such as append, pop, insert, and sort."
      ],
      "metadata": {
        "id": "bIEuLwWGuA2g"
      }
    },
    {
      "cell_type": "markdown",
      "source": [
        "Qno.3 Describe how to access, modify, and delete elements in a list with examples\n"
      ],
      "metadata": {
        "id": "WrzCVvJovOut"
      }
    },
    {
      "cell_type": "markdown",
      "source": [
        "To access list elements, use indexing, e.g., my_list[0] for the first element. To modify elements, assign a new value, like my_list[0] = new_value. To delete elements, use del my_list[index], my_list.pop(index), or my_list.remove(value).\n"
      ],
      "metadata": {
        "id": "W6z38LO_w8dS"
      }
    },
    {
      "cell_type": "code",
      "source": [
        "\n",
        "my_list = [1, 2, 3]\n",
        "print(my_list[1])  # Access: 2\n",
        "my_list[1] = 5     # Modify: [1, 5, 3]\n",
        "my_list.pop(0)     # Delete: [5, 3]"
      ],
      "metadata": {
        "colab": {
          "base_uri": "https://localhost:8080/"
        },
        "id": "SpfAYTsew9yb",
        "outputId": "69510ed4-80d4-45a5-9427-8678991964e7"
      },
      "execution_count": 17,
      "outputs": [
        {
          "output_type": "stream",
          "name": "stdout",
          "text": [
            "2\n"
          ]
        },
        {
          "output_type": "execute_result",
          "data": {
            "text/plain": [
              "1"
            ]
          },
          "metadata": {},
          "execution_count": 17
        }
      ]
    },
    {
      "cell_type": "markdown",
      "source": [
        "\n",
        " Qno.4 Compare and contrast tuples and lists with examples\n"
      ],
      "metadata": {
        "id": "pdxoAAvrzUGc"
      }
    },
    {
      "cell_type": "markdown",
      "source": [
        "Lists are mutable, meaning elements can be modified, while tuples are immutable and cannot be changed once created. Lists use square brackets [], while tuples use parentheses ().\n",
        "\n",
        "Example:\n"
      ],
      "metadata": {
        "id": "t13S071SzkNd"
      }
    },
    {
      "cell_type": "code",
      "source": [
        "\n",
        "my_list = [1, 2, 3]  # List\n",
        "my_list[0] = 4       # Modifiable: [4, 2, 3]\n",
        "\n",
        "my_tuple = (1, 2, 3) # Tuple\n",
        "# my_tuple[0] = 4    # Error: tuples are immutable"
      ],
      "metadata": {
        "id": "Fi_plTqGzvXC"
      },
      "execution_count": 18,
      "outputs": []
    },
    {
      "cell_type": "markdown",
      "source": [
        "Qno.5 Describe the key features of sets and provide examples of their use"
      ],
      "metadata": {
        "id": "vjvzJPBGz8kJ"
      }
    },
    {
      "cell_type": "markdown",
      "source": [
        "Sets are unordered collections of unique elements, meaning duplicates aren’t allowed. They support operations like union, intersection, and difference, useful for comparisons. Sets are defined with {}.\n",
        "\n",
        "Example:\n"
      ],
      "metadata": {
        "id": "xBYCvQn1z_o-"
      }
    },
    {
      "cell_type": "code",
      "source": [
        "set_a = {1, 2, 3}\n",
        "set_b = {3, 4, 5}\n",
        "\n",
        "# Unique elements only\n",
        "set_a.add(3)           # No effect, as 3 already exists\n",
        "union_set = set_a | set_b  # Union: {1, 2, 3, 4, 5}"
      ],
      "metadata": {
        "id": "k-n-QrwM0LLT"
      },
      "execution_count": 19,
      "outputs": []
    },
    {
      "cell_type": "markdown",
      "source": [
        "Qno.6 Discuss the use cases of tuples and sets in Python programming"
      ],
      "metadata": {
        "id": "5xGnmR8ly-g3"
      }
    },
    {
      "cell_type": "markdown",
      "source": [
        "Tuples are ideal for storing fixed collections of related data, such as coordinates, or returning multiple values from functions, as they are immutable. Sets are useful for membership tests, removing duplicates, and mathematical operations like union and intersection, making them effective in data comparisons and filtering unique values."
      ],
      "metadata": {
        "id": "Pu7g1M6dzEPA"
      }
    },
    {
      "cell_type": "markdown",
      "source": [
        "Qno.7 Describe how to add, modify, and delete items in a dictionary with examples\n"
      ],
      "metadata": {
        "id": "UVwDWSnz0W1N"
      }
    },
    {
      "cell_type": "markdown",
      "source": [
        "To add items in a dictionary, assign a key-value pair: my_dict[key] = value. To modify items, update an existing key’s value: my_dict[key] = new_value. To delete items, use del my_dict[key] or my_dict.pop(key).\n",
        "\n",
        "Example:\n"
      ],
      "metadata": {
        "id": "YdH2znhM0kX1"
      }
    },
    {
      "cell_type": "markdown",
      "source": [
        "Qno.8 Discuss the importance of dictionary keys being immutable and provide examples"
      ],
      "metadata": {
        "id": "tlftpZXN1BhU"
      }
    },
    {
      "cell_type": "markdown",
      "source": [
        "To add items in a dictionary, assign a key-value pair: my_dict[key] = value. To modify items, update an existing key’s value: my_dict[key] = new_value. To delete items, use del my_dict[key] or my_dict.pop(key).\n",
        "\n",
        "Example:\n"
      ],
      "metadata": {
        "id": "E8dW0qaK3My9"
      }
    },
    {
      "cell_type": "code",
      "source": [
        "my_dict = {'a': 1, 'b': 2}\n",
        "\n",
        "my_dict['c'] = 3       # Add: {'a': 1, 'b': 2, 'c': 3}\n",
        "my_dict['a'] = 10      # Modify: {'a': 10, 'b': 2, 'c': 3}\n",
        "my_dict.pop('b')       # Delete: {'a': 10, 'c': 3}"
      ],
      "metadata": {
        "colab": {
          "base_uri": "https://localhost:8080/"
        },
        "id": "qx4E7gFy1x2x",
        "outputId": "5a9cff76-93e8-4979-c9c4-5a98fc2279cd"
      },
      "execution_count": 23,
      "outputs": [
        {
          "output_type": "execute_result",
          "data": {
            "text/plain": [
              "2"
            ]
          },
          "metadata": {},
          "execution_count": 23
        }
      ]
    },
    {
      "cell_type": "markdown",
      "source": [
        "Qno.9 Discuss the importance of dictionary keys being immutable and provide examples\n"
      ],
      "metadata": {
        "id": "J7G2IDRD2HUt"
      }
    },
    {
      "cell_type": "markdown",
      "source": [
        "Dictionary keys must be immutable (e.g., strings, numbers, tuples) because dictionaries use hashing for fast lookups, which requires keys to have a consistent hash value. Mutable objects (e.g., lists) can change, altering their hash and causing lookup errors.\n",
        "\n",
        "Example:\n"
      ],
      "metadata": {
        "id": "X53EAcu91KsG"
      }
    },
    {
      "cell_type": "code",
      "source": [
        "my_dict = {(1, 2): \"value\"}  # Tuple key (immutable)\n",
        "# my_dict[[1, 2]] = \"value\"  # Error: list (mutable) not allowed as key"
      ],
      "metadata": {
        "id": "XEFP_tdT1Ob0"
      },
      "execution_count": 21,
      "outputs": []
    }
  ]
}